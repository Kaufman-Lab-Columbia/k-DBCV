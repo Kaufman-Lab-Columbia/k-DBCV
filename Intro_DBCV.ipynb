{
 "cells": [
  {
   "cell_type": "markdown",
   "id": "24d8de24",
   "metadata": {},
   "source": [
    "# Introduction Notebook for DBCV"
   ]
  },
  {
   "cell_type": "code",
   "execution_count": null,
   "id": "aaaf61e5",
   "metadata": {},
   "outputs": [],
   "source": [
    "import numpy as np\n",
    "from sklearn import datasets\n",
    "import matplotlib.pyplot as plt\n",
    "\n",
    "from DBCV import DBCV_score\n",
    "from ClustSim import simulate_clusters, plot_clusters"
   ]
  },
  {
   "cell_type": "markdown",
   "id": "34517c3b",
   "metadata": {},
   "source": [
    "## Scenario I"
   ]
  },
  {
   "cell_type": "code",
   "execution_count": null,
   "id": "d52592e4",
   "metadata": {},
   "outputs": [],
   "source": [
    "noisy_moons = datasets.make_moons(noise=0.05, n_samples=500, random_state=30)\n",
    "X = noisy_moons[0]\n",
    "labels = noisy_moons[1]\n",
    "clust1 = X[np.where(labels == 1)]\n",
    "clust2 = X[np.where(labels == 0)]\n",
    "\n",
    "plt.scatter(*clust1.T, color='orange')\n",
    "plt.scatter(*clust2.T, color='dodgerblue')\n",
    "plt.title('Half Moon Clusters')\n",
    "plt.xlabel('x')\n",
    "plt.ylabel('y')\n",
    "plt.gca().set_aspect('equal')"
   ]
  },
  {
   "cell_type": "code",
   "execution_count": null,
   "id": "da9b629a",
   "metadata": {},
   "outputs": [],
   "source": [
    "DBCV_score(X, labels)"
   ]
  },
  {
   "cell_type": "markdown",
   "id": "f352cd5b",
   "metadata": {},
   "source": [
    "## Scenario II"
   ]
  },
  {
   "cell_type": "code",
   "execution_count": null,
   "id": "94cff79f",
   "metadata": {},
   "outputs": [],
   "source": [
    "X, labels = simulate_clusters(\n",
    "    num_clusters = 70, clustered_pts = 150, cluster_size = 300,\n",
    "    noise_pts = 3000, min_sep = 600.0, space = (0,10000)\n",
    ")\n",
    "\n",
    "plot_clusters(X, labels)"
   ]
  },
  {
   "cell_type": "code",
   "execution_count": null,
   "id": "a9ba14b9",
   "metadata": {},
   "outputs": [],
   "source": [
    "score, ind_clust_scores = DBCV_score(X, labels, ind_clust_scores=True)\n",
    "print(score)"
   ]
  },
  {
   "cell_type": "code",
   "execution_count": null,
   "id": "3c00e041",
   "metadata": {},
   "outputs": [],
   "source": [
    "x = X[:,0][np.where(labels != -1)]\n",
    "y = X[:,1][np.where(labels != -1)]\n",
    "zlist = []\n",
    "for i in range(len(labels)):\n",
    "    if labels[i] == -1:\n",
    "        continue\n",
    "    else:\n",
    "        zlist.append(ind_clust_scores[labels[i]])\n",
    "z = np.array(zlist)"
   ]
  },
  {
   "cell_type": "code",
   "execution_count": null,
   "id": "a8536caf",
   "metadata": {},
   "outputs": [],
   "source": [
    "fig = plt.figure()\n",
    "ax = fig.add_subplot()\n",
    "p = ax.scatter(x, y, c=z, cmap=plt.cm.rainbow, s=0.01, vmin=0, vmax=1)\n",
    "ax.set_xlabel('x')\n",
    "ax.set_ylabel('y')\n",
    "ax.set_title('Invidual Cluster Scores')\n",
    "fig.colorbar(p, ax=ax)"
   ]
  },
  {
   "cell_type": "markdown",
   "id": "8724d97d",
   "metadata": {},
   "source": [
    "## Adjusting the memory cutoff"
   ]
  },
  {
   "cell_type": "code",
   "execution_count": null,
   "id": "0fe12d0e",
   "metadata": {},
   "outputs": [],
   "source": [
    "DBCV_score(X, labels, mem_cutoff=0.001)"
   ]
  },
  {
   "cell_type": "code",
   "execution_count": null,
   "id": "57bfaf68-0ad9-4463-88f4-3df36eb5d6a7",
   "metadata": {},
   "outputs": [],
   "source": []
  }
 ],
 "metadata": {
  "kernelspec": {
   "display_name": "Python 3 (ipykernel)",
   "language": "python",
   "name": "python3"
  },
  "language_info": {
   "codemirror_mode": {
    "name": "ipython",
    "version": 3
   },
   "file_extension": ".py",
   "mimetype": "text/x-python",
   "name": "python",
   "nbconvert_exporter": "python",
   "pygments_lexer": "ipython3",
   "version": "3.9.16"
  }
 },
 "nbformat": 4,
 "nbformat_minor": 5
}
